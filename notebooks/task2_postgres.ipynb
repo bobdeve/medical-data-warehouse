{
 "cells": [
  {
   "cell_type": "code",
   "execution_count": 1,
   "id": "b185c18b",
   "metadata": {},
   "outputs": [
    {
     "name": "stdout",
     "output_type": "stream",
     "text": [
      "Requirement already satisfied: dbt-postgres in c:\\users\\bob\\desktop\\10acadamy\\week7\\.venv\\lib\\site-packages (1.9.0)\n",
      "Requirement already satisfied: agate<2.0,>=1.0 in c:\\users\\bob\\desktop\\10acadamy\\week7\\.venv\\lib\\site-packages (from dbt-postgres) (1.9.1)\n",
      "Requirement already satisfied: dbt-adapters<2.0,>=1.7.0 in c:\\users\\bob\\desktop\\10acadamy\\week7\\.venv\\lib\\site-packages (from dbt-postgres) (1.16.1)\n",
      "Requirement already satisfied: dbt-common<2.0,>=1.0.4 in c:\\users\\bob\\desktop\\10acadamy\\week7\\.venv\\lib\\site-packages (from dbt-postgres) (1.26.0)\n",
      "Requirement already satisfied: dbt-core>=1.8.0 in c:\\users\\bob\\desktop\\10acadamy\\week7\\.venv\\lib\\site-packages (from dbt-postgres) (1.10.4)\n",
      "Requirement already satisfied: psycopg2-binary<3.0,>=2.9 in c:\\users\\bob\\desktop\\10acadamy\\week7\\.venv\\lib\\site-packages (from dbt-postgres) (2.9.10)\n",
      "Requirement already satisfied: Babel>=2.0 in c:\\users\\bob\\desktop\\10acadamy\\week7\\.venv\\lib\\site-packages (from agate<2.0,>=1.0->dbt-postgres) (2.17.0)\n",
      "Requirement already satisfied: isodate>=0.5.4 in c:\\users\\bob\\desktop\\10acadamy\\week7\\.venv\\lib\\site-packages (from agate<2.0,>=1.0->dbt-postgres) (0.6.1)\n",
      "Requirement already satisfied: leather>=0.3.2 in c:\\users\\bob\\desktop\\10acadamy\\week7\\.venv\\lib\\site-packages (from agate<2.0,>=1.0->dbt-postgres) (0.4.0)\n",
      "Requirement already satisfied: parsedatetime!=2.5,>=2.1 in c:\\users\\bob\\desktop\\10acadamy\\week7\\.venv\\lib\\site-packages (from agate<2.0,>=1.0->dbt-postgres) (2.6)\n",
      "Requirement already satisfied: python-slugify>=1.2.1 in c:\\users\\bob\\desktop\\10acadamy\\week7\\.venv\\lib\\site-packages (from agate<2.0,>=1.0->dbt-postgres) (8.0.4)\n",
      "Requirement already satisfied: pytimeparse>=1.1.5 in c:\\users\\bob\\desktop\\10acadamy\\week7\\.venv\\lib\\site-packages (from agate<2.0,>=1.0->dbt-postgres) (1.1.8)\n",
      "Requirement already satisfied: tzdata>=2023.3 in c:\\users\\bob\\desktop\\10acadamy\\week7\\.venv\\lib\\site-packages (from agate<2.0,>=1.0->dbt-postgres) (2025.2)\n",
      "Requirement already satisfied: dbt-protos<2.0,>=1.0.291 in c:\\users\\bob\\desktop\\10acadamy\\week7\\.venv\\lib\\site-packages (from dbt-adapters<2.0,>=1.7.0->dbt-postgres) (1.0.337)\n",
      "Requirement already satisfied: mashumaro<3.15,>=3.9 in c:\\users\\bob\\desktop\\10acadamy\\week7\\.venv\\lib\\site-packages (from mashumaro[msgpack]<3.15,>=3.9->dbt-adapters<2.0,>=1.7.0->dbt-postgres) (3.14)\n",
      "Requirement already satisfied: protobuf<6.0,>=5.0 in c:\\users\\bob\\desktop\\10acadamy\\week7\\.venv\\lib\\site-packages (from dbt-adapters<2.0,>=1.7.0->dbt-postgres) (5.29.5)\n",
      "Requirement already satisfied: pytz>=2015.7 in c:\\users\\bob\\desktop\\10acadamy\\week7\\.venv\\lib\\site-packages (from dbt-adapters<2.0,>=1.7.0->dbt-postgres) (2025.2)\n",
      "Requirement already satisfied: typing-extensions<5.0,>=4.0 in c:\\users\\bob\\desktop\\10acadamy\\week7\\.venv\\lib\\site-packages (from dbt-adapters<2.0,>=1.7.0->dbt-postgres) (4.14.1)\n",
      "Requirement already satisfied: colorama<0.5,>=0.3.9 in c:\\users\\bob\\desktop\\10acadamy\\week7\\.venv\\lib\\site-packages (from dbt-common<2.0,>=1.0.4->dbt-postgres) (0.4.6)\n",
      "Requirement already satisfied: deepdiff<8.0,>=7.0 in c:\\users\\bob\\desktop\\10acadamy\\week7\\.venv\\lib\\site-packages (from dbt-common<2.0,>=1.0.4->dbt-postgres) (7.0.1)\n",
      "Requirement already satisfied: jinja2<4,>=3.1.3 in c:\\users\\bob\\desktop\\10acadamy\\week7\\.venv\\lib\\site-packages (from dbt-common<2.0,>=1.0.4->dbt-postgres) (3.1.6)\n",
      "Requirement already satisfied: jsonschema<5.0,>=4.0 in c:\\users\\bob\\desktop\\10acadamy\\week7\\.venv\\lib\\site-packages (from dbt-common<2.0,>=1.0.4->dbt-postgres) (4.24.0)\n",
      "Requirement already satisfied: pathspec<0.13,>=0.9 in c:\\users\\bob\\desktop\\10acadamy\\week7\\.venv\\lib\\site-packages (from dbt-common<2.0,>=1.0.4->dbt-postgres) (0.12.1)\n",
      "Requirement already satisfied: python-dateutil<3.0,>=2.0 in c:\\users\\bob\\desktop\\10acadamy\\week7\\.venv\\lib\\site-packages (from dbt-common<2.0,>=1.0.4->dbt-postgres) (2.9.0.post0)\n",
      "Requirement already satisfied: requests<3.0.0 in c:\\users\\bob\\desktop\\10acadamy\\week7\\.venv\\lib\\site-packages (from dbt-common<2.0,>=1.0.4->dbt-postgres) (2.32.4)\n",
      "Requirement already satisfied: ordered-set<4.2.0,>=4.1.0 in c:\\users\\bob\\desktop\\10acadamy\\week7\\.venv\\lib\\site-packages (from deepdiff<8.0,>=7.0->dbt-common<2.0,>=1.0.4->dbt-postgres) (4.1.0)\n",
      "Requirement already satisfied: six in c:\\users\\bob\\desktop\\10acadamy\\week7\\.venv\\lib\\site-packages (from isodate>=0.5.4->agate<2.0,>=1.0->dbt-postgres) (1.17.0)\n",
      "Requirement already satisfied: MarkupSafe>=2.0 in c:\\users\\bob\\desktop\\10acadamy\\week7\\.venv\\lib\\site-packages (from jinja2<4,>=3.1.3->dbt-common<2.0,>=1.0.4->dbt-postgres) (3.0.2)\n",
      "Requirement already satisfied: attrs>=22.2.0 in c:\\users\\bob\\desktop\\10acadamy\\week7\\.venv\\lib\\site-packages (from jsonschema<5.0,>=4.0->dbt-common<2.0,>=1.0.4->dbt-postgres) (25.3.0)\n",
      "Requirement already satisfied: jsonschema-specifications>=2023.03.6 in c:\\users\\bob\\desktop\\10acadamy\\week7\\.venv\\lib\\site-packages (from jsonschema<5.0,>=4.0->dbt-common<2.0,>=1.0.4->dbt-postgres) (2025.4.1)\n",
      "Requirement already satisfied: referencing>=0.28.4 in c:\\users\\bob\\desktop\\10acadamy\\week7\\.venv\\lib\\site-packages (from jsonschema<5.0,>=4.0->dbt-common<2.0,>=1.0.4->dbt-postgres) (0.36.2)\n",
      "Requirement already satisfied: rpds-py>=0.7.1 in c:\\users\\bob\\desktop\\10acadamy\\week7\\.venv\\lib\\site-packages (from jsonschema<5.0,>=4.0->dbt-common<2.0,>=1.0.4->dbt-postgres) (0.26.0)\n",
      "Requirement already satisfied: msgpack>=0.5.6 in c:\\users\\bob\\desktop\\10acadamy\\week7\\.venv\\lib\\site-packages (from mashumaro[msgpack]<3.15,>=3.9->dbt-adapters<2.0,>=1.7.0->dbt-postgres) (1.1.1)\n",
      "Requirement already satisfied: charset_normalizer<4,>=2 in c:\\users\\bob\\desktop\\10acadamy\\week7\\.venv\\lib\\site-packages (from requests<3.0.0->dbt-common<2.0,>=1.0.4->dbt-postgres) (3.4.2)\n",
      "Requirement already satisfied: idna<4,>=2.5 in c:\\users\\bob\\desktop\\10acadamy\\week7\\.venv\\lib\\site-packages (from requests<3.0.0->dbt-common<2.0,>=1.0.4->dbt-postgres) (3.10)\n",
      "Requirement already satisfied: urllib3<3,>=1.21.1 in c:\\users\\bob\\desktop\\10acadamy\\week7\\.venv\\lib\\site-packages (from requests<3.0.0->dbt-common<2.0,>=1.0.4->dbt-postgres) (2.5.0)\n",
      "Requirement already satisfied: certifi>=2017.4.17 in c:\\users\\bob\\desktop\\10acadamy\\week7\\.venv\\lib\\site-packages (from requests<3.0.0->dbt-common<2.0,>=1.0.4->dbt-postgres) (2025.7.9)\n",
      "Requirement already satisfied: click<9.0,>=8.0.2 in c:\\users\\bob\\desktop\\10acadamy\\week7\\.venv\\lib\\site-packages (from dbt-core>=1.8.0->dbt-postgres) (8.2.1)\n",
      "Requirement already satisfied: networkx<4.0,>=2.3 in c:\\users\\bob\\desktop\\10acadamy\\week7\\.venv\\lib\\site-packages (from dbt-core>=1.8.0->dbt-postgres) (3.5)\n",
      "Requirement already satisfied: snowplow-tracker<2.0,>=1.0.2 in c:\\users\\bob\\desktop\\10acadamy\\week7\\.venv\\lib\\site-packages (from dbt-core>=1.8.0->dbt-postgres) (1.1.0)\n",
      "Requirement already satisfied: sqlparse<0.6.0,>=0.5.0 in c:\\users\\bob\\desktop\\10acadamy\\week7\\.venv\\lib\\site-packages (from dbt-core>=1.8.0->dbt-postgres) (0.5.3)\n",
      "Requirement already satisfied: dbt-extractor<=0.6,>=0.5.0 in c:\\users\\bob\\desktop\\10acadamy\\week7\\.venv\\lib\\site-packages (from dbt-core>=1.8.0->dbt-postgres) (0.6.0)\n",
      "Requirement already satisfied: dbt-semantic-interfaces<0.10,>=0.9.0 in c:\\users\\bob\\desktop\\10acadamy\\week7\\.venv\\lib\\site-packages (from dbt-core>=1.8.0->dbt-postgres) (0.9.0)\n",
      "Requirement already satisfied: pydantic<3 in c:\\users\\bob\\desktop\\10acadamy\\week7\\.venv\\lib\\site-packages (from dbt-core>=1.8.0->dbt-postgres) (2.11.7)\n",
      "Requirement already satisfied: packaging>20.9 in c:\\users\\bob\\desktop\\10acadamy\\week7\\.venv\\lib\\site-packages (from dbt-core>=1.8.0->dbt-postgres) (25.0)\n",
      "Requirement already satisfied: pyyaml>=6.0 in c:\\users\\bob\\desktop\\10acadamy\\week7\\.venv\\lib\\site-packages (from dbt-core>=1.8.0->dbt-postgres) (6.0.2)\n",
      "Requirement already satisfied: daff>=1.3.46 in c:\\users\\bob\\desktop\\10acadamy\\week7\\.venv\\lib\\site-packages (from dbt-core>=1.8.0->dbt-postgres) (1.4.2)\n",
      "Requirement already satisfied: importlib-metadata<9,>=6.0 in c:\\users\\bob\\desktop\\10acadamy\\week7\\.venv\\lib\\site-packages (from dbt-semantic-interfaces<0.10,>=0.9.0->dbt-core>=1.8.0->dbt-postgres) (8.7.0)\n",
      "Requirement already satisfied: more-itertools<11.0,>=8.0 in c:\\users\\bob\\desktop\\10acadamy\\week7\\.venv\\lib\\site-packages (from dbt-semantic-interfaces<0.10,>=0.9.0->dbt-core>=1.8.0->dbt-postgres) (10.7.0)\n",
      "Requirement already satisfied: zipp>=3.20 in c:\\users\\bob\\desktop\\10acadamy\\week7\\.venv\\lib\\site-packages (from importlib-metadata<9,>=6.0->dbt-semantic-interfaces<0.10,>=0.9.0->dbt-core>=1.8.0->dbt-postgres) (3.23.0)\n",
      "Requirement already satisfied: annotated-types>=0.6.0 in c:\\users\\bob\\desktop\\10acadamy\\week7\\.venv\\lib\\site-packages (from pydantic<3->dbt-core>=1.8.0->dbt-postgres) (0.7.0)\n",
      "Requirement already satisfied: pydantic-core==2.33.2 in c:\\users\\bob\\desktop\\10acadamy\\week7\\.venv\\lib\\site-packages (from pydantic<3->dbt-core>=1.8.0->dbt-postgres) (2.33.2)\n",
      "Requirement already satisfied: typing-inspection>=0.4.0 in c:\\users\\bob\\desktop\\10acadamy\\week7\\.venv\\lib\\site-packages (from pydantic<3->dbt-core>=1.8.0->dbt-postgres) (0.4.1)\n",
      "Requirement already satisfied: text-unidecode>=1.3 in c:\\users\\bob\\desktop\\10acadamy\\week7\\.venv\\lib\\site-packages (from python-slugify>=1.2.1->agate<2.0,>=1.0->dbt-postgres) (1.3)\n"
     ]
    }
   ],
   "source": [
    "# Install DBT with PostgreSQL support\n",
    "!pip install dbt-postgres\n"
   ]
  },
  {
   "cell_type": "code",
   "execution_count": 2,
   "id": "7691f4c6",
   "metadata": {},
   "outputs": [
    {
     "name": "stdout",
     "output_type": "stream",
     "text": [
      "C:\\Users\\Bob\\Desktop\\10Acadamy\\week7\\medical-data-warehouse\n"
     ]
    }
   ],
   "source": [
    "%cd C:/Users/Bob/Desktop/10Acadamy/week7/medical-data-warehouse\n"
   ]
  },
  {
   "cell_type": "code",
   "execution_count": 3,
   "id": "802a9f10",
   "metadata": {},
   "outputs": [
    {
     "name": "stdout",
     "output_type": "stream",
     "text": [
      "\u001b[0m07:08:01  Running with dbt=1.10.4\n",
      "\u001b[0m07:08:01  A project called medical_dbt already exists here.\n"
     ]
    }
   ],
   "source": [
    "!dbt init medical_dbt\n"
   ]
  },
  {
   "cell_type": "code",
   "execution_count": 4,
   "id": "5cc8cd36",
   "metadata": {},
   "outputs": [
    {
     "name": "stdout",
     "output_type": "stream",
     "text": [
      "✅ profiles.yml created at ~/.dbt/profiles.yml\n"
     ]
    }
   ],
   "source": [
    "profile_config = \"\"\"\n",
    "medical_dbt:\n",
    "  target: dev\n",
    "  outputs:\n",
    "    dev:\n",
    "      type: postgres\n",
    "      host: localhost\n",
    "      user: warehouse\n",
    "      password: drax\n",
    "      port: 5432\n",
    "      dbname: telegram_db\n",
    "      schema: public\n",
    "      threads: 4\n",
    "      timeout_seconds: 300\n",
    "\"\"\"\n",
    "\n",
    "import os\n",
    "\n",
    "os.makedirs(os.path.expanduser(\"~/.dbt\"), exist_ok=True)\n",
    "\n",
    "with open(os.path.expanduser(\"~/.dbt/profiles.yml\"), \"w\") as f:\n",
    "    f.write(profile_config)\n",
    "\n",
    "print(\"✅ profiles.yml created at ~/.dbt/profiles.yml\")\n"
   ]
  },
  {
   "cell_type": "code",
   "execution_count": 5,
   "id": "af084d55",
   "metadata": {},
   "outputs": [
    {
     "name": "stdout",
     "output_type": "stream",
     "text": [
      "\u001b[0m07:08:06  Running with dbt=1.10.4\n",
      "\u001b[0m07:08:06  dbt version: 1.10.4\n",
      "\u001b[0m07:08:06  python version: 3.13.3\n",
      "\u001b[0m07:08:06  python path: c:\\Users\\Bob\\Desktop\\10Acadamy\\week7\\.venv\\Scripts\\python.exe\n",
      "\u001b[0m07:08:06  os info: Windows-11-10.0.26100-SP0\n",
      "\u001b[0m07:08:06  Using profiles dir at C:\\Users\\Bob\\.dbt\n",
      "\u001b[0m07:08:06  Using profiles.yml file at C:\\Users\\Bob\\.dbt\\profiles.yml\n",
      "\u001b[0m07:08:06  Using dbt_project.yml file at medical_dbt\\dbt_project.yml\n",
      "\u001b[0m07:08:06  adapter type: postgres\n",
      "\u001b[0m07:08:06  adapter version: 1.9.0\n",
      "\u001b[0m07:08:07  Configuration:\n",
      "\u001b[0m07:08:07    profiles.yml file [\u001b[32mOK found and valid\u001b[0m]\n",
      "\u001b[0m07:08:07    dbt_project.yml file [\u001b[32mOK found and valid\u001b[0m]\n",
      "\u001b[0m07:08:07  Required dependencies:\n",
      "\u001b[0m07:08:07   - git [\u001b[32mOK found\u001b[0m]\n",
      "\n",
      "\u001b[0m07:08:07  Connection:\n",
      "\u001b[0m07:08:07    host: localhost\n",
      "\u001b[0m07:08:07    port: 5432\n",
      "\u001b[0m07:08:07    user: warehouse\n",
      "\u001b[0m07:08:07    database: telegram_db\n",
      "\u001b[0m07:08:07    schema: public\n",
      "\u001b[0m07:08:07    connect_timeout: 10\n",
      "\u001b[0m07:08:07    role: None\n",
      "\u001b[0m07:08:07    search_path: None\n",
      "\u001b[0m07:08:07    keepalives_idle: 0\n",
      "\u001b[0m07:08:07    sslmode: None\n",
      "\u001b[0m07:08:07    sslcert: None\n",
      "\u001b[0m07:08:07    sslkey: None\n",
      "\u001b[0m07:08:07    sslrootcert: None\n",
      "\u001b[0m07:08:07    application_name: dbt\n",
      "\u001b[0m07:08:07    retries: 1\n",
      "\u001b[0m07:08:07  Registered adapter: postgres=1.9.0\n",
      "\u001b[0m07:08:09    Connection test: [\u001b[32mOK connection ok\u001b[0m]\n",
      "\n",
      "\u001b[0m07:08:09  \u001b[32mAll checks passed!\u001b[0m\n"
     ]
    }
   ],
   "source": [
    "# Test the connection to your Postgres database\n",
    "!dbt debug --project-dir medical_dbt\n"
   ]
  },
  {
   "cell_type": "code",
   "execution_count": 6,
   "id": "632f4ba3",
   "metadata": {},
   "outputs": [
    {
     "name": "stdout",
     "output_type": "stream",
     "text": [
      "✅ Created staging model: stg_telegram_messages.sql\n"
     ]
    }
   ],
   "source": [
    "stg_model = \"\"\"\n",
    "with source as (\n",
    "    select * from {{ source('public', 'raw_telegram_messages') }}\n",
    "),\n",
    "\n",
    "renamed as (\n",
    "    select\n",
    "        message_id::bigint as message_id,\n",
    "        date::timestamp as message_date,\n",
    "        sender_id::text as sender_id,\n",
    "        text::text as message_text,\n",
    "        channel::text as channel,\n",
    "        has_photo::boolean as has_photo\n",
    "    from source\n",
    ")\n",
    "\n",
    "select * from renamed\n",
    "\"\"\"\n",
    "\n",
    "models_path = \"medical_dbt/models/staging\"\n",
    "os.makedirs(models_path, exist_ok=True)\n",
    "\n",
    "with open(f\"{models_path}/stg_telegram_messages.sql\", \"w\") as f:\n",
    "    f.write(stg_model)\n",
    "\n",
    "print(\"✅ Created staging model: stg_telegram_messages.sql\")\n"
   ]
  },
  {
   "cell_type": "markdown",
   "id": "28387a63",
   "metadata": {},
   "source": [
    "✅ CELL 6 – Register your source\n",
    "In medical_dbt/models, create a file called schema.yml:"
   ]
  },
  {
   "cell_type": "code",
   "execution_count": 7,
   "id": "9952662a",
   "metadata": {},
   "outputs": [
    {
     "name": "stdout",
     "output_type": "stream",
     "text": [
      "✅ schema.yml created with raw_telegram_messages as source\n"
     ]
    }
   ],
   "source": [
    "schema_yml = \"\"\"\n",
    "version: 2\n",
    "\n",
    "sources:\n",
    "  - name: public\n",
    "    database: telegram_db\n",
    "    schema: public\n",
    "    tables:\n",
    "      - name: raw_telegram_messages\n",
    "\"\"\"\n",
    "\n",
    "with open(\"medical_dbt/models/schema.yml\", \"w\") as f:\n",
    "    f.write(schema_yml)\n",
    "\n",
    "print(\"✅ schema.yml created with raw_telegram_messages as source\")\n"
   ]
  },
  {
   "cell_type": "markdown",
   "id": "f35294a9",
   "metadata": {},
   "source": [
    "✅ CELL 7 – Run the DBT model"
   ]
  },
  {
   "cell_type": "code",
   "execution_count": 8,
   "id": "91f014f9",
   "metadata": {},
   "outputs": [
    {
     "name": "stdout",
     "output_type": "stream",
     "text": [
      "\u001b[0m07:08:14  Running with dbt=1.10.4\n",
      "\u001b[0m07:08:14  Registered adapter: postgres=1.9.0\n",
      "\u001b[0m07:08:16  [\u001b[33mWARNING\u001b[0m]: Configuration paths exist in your dbt_project.yml file which do not apply to any resources.\n",
      "There are 1 unused configuration paths:\n",
      "- models.medical_dbt.example\n",
      "\u001b[0m07:08:17  Found 1 test, 4 models, 1 source, 433 macros\n",
      "\u001b[0m07:08:17  \n",
      "\u001b[0m07:08:17  Concurrency: 4 threads (target='dev')\n",
      "\u001b[0m07:08:17  \n",
      "\u001b[0m07:08:17  1 of 1 START sql view model public.stg_telegram_messages ....................... [RUN]\n",
      "\u001b[0m07:08:17  1 of 1 OK created sql view model public.stg_telegram_messages .................. [\u001b[32mCREATE VIEW\u001b[0m in 0.18s]\n",
      "\u001b[0m07:08:17  \n",
      "\u001b[0m07:08:17  Finished running 1 view model in 0 hours 0 minutes and 0.60 seconds (0.60s).\n",
      "\u001b[0m07:08:17  \n",
      "\u001b[0m07:08:17  \u001b[32mCompleted successfully\u001b[0m\n",
      "\u001b[0m07:08:17  \n",
      "\u001b[0m07:08:17  Done. PASS=1 WARN=0 ERROR=0 SKIP=0 NO-OP=0 TOTAL=1\n"
     ]
    }
   ],
   "source": [
    "!dbt run --select stg_telegram_messages --project-dir medical_dbt\n"
   ]
  },
  {
   "cell_type": "markdown",
   "id": "912795b8",
   "metadata": {},
   "source": [
    "✅ CELL 8 – Create dim_channels model\n",
    "\n"
   ]
  },
  {
   "cell_type": "code",
   "execution_count": 9,
   "id": "96e492f1",
   "metadata": {},
   "outputs": [
    {
     "name": "stdout",
     "output_type": "stream",
     "text": [
      "✅ dim_channels.sql created\n"
     ]
    }
   ],
   "source": [
    "dim_channels_sql = \"\"\"\n",
    "with base as (\n",
    "    select\n",
    "        distinct channel\n",
    "    from {{ ref('stg_telegram_messages') }}\n",
    "),\n",
    "\n",
    "dim_channels as (\n",
    "    select\n",
    "        row_number() over (order by channel) as channel_id,\n",
    "        channel\n",
    "    from base\n",
    ")\n",
    "\n",
    "select * from dim_channels\n",
    "\"\"\"\n",
    "\n",
    "with open(\"medical_dbt/models/dim_channels.sql\", \"w\") as f:\n",
    "    f.write(dim_channels_sql)\n",
    "\n",
    "print(\"✅ dim_channels.sql created\")\n"
   ]
  },
  {
   "cell_type": "markdown",
   "id": "3c36f0f3",
   "metadata": {},
   "source": [
    "CELL 9 – Create dim_dates model"
   ]
  },
  {
   "cell_type": "code",
   "execution_count": 10,
   "id": "2e726cdd",
   "metadata": {},
   "outputs": [
    {
     "name": "stdout",
     "output_type": "stream",
     "text": [
      "✅ dim_dates.sql created\n"
     ]
    }
   ],
   "source": [
    "dim_dates_sql = \"\"\"\n",
    "with raw_dates as (\n",
    "    select\n",
    "        distinct message_date::date as date\n",
    "    from {{ ref('stg_telegram_messages') }}\n",
    "),\n",
    "\n",
    "dim_dates as (\n",
    "    select\n",
    "        row_number() over (order by date) as date_id,\n",
    "        date,\n",
    "        extract(year from date) as year,\n",
    "        extract(month from date) as month,\n",
    "        extract(day from date) as day,\n",
    "        to_char(date, 'Day') as day_name\n",
    "    from raw_dates\n",
    ")\n",
    "\n",
    "select * from dim_dates\n",
    "\"\"\"\n",
    "\n",
    "with open(\"medical_dbt/models/dim_dates.sql\", \"w\") as f:\n",
    "    f.write(dim_dates_sql)\n",
    "\n",
    "print(\"✅ dim_dates.sql created\")\n"
   ]
  },
  {
   "cell_type": "markdown",
   "id": "fc6be585",
   "metadata": {},
   "source": [
    "✅ CELL 10 – Create fct_messages (fact table)\n"
   ]
  },
  {
   "cell_type": "code",
   "execution_count": null,
   "id": "7f8ddb8b",
   "metadata": {},
   "outputs": [
    {
     "name": "stdout",
     "output_type": "stream",
     "text": [
      "✅ fct_messages.sql created\n"
     ]
    }
   ],
   "source": [
    "fct_messages_sql = \"\"\"\n",
    "with base as (\n",
    "    select\n",
    "        msg.message_id,\n",
    "        msg.sender_id,\n",
    "        msg.message_text,\n",
    "        msg.has_photo,\n",
    "        msg.channel,\n",
    "        msg.message_date::date as post_date  -- ✅ Renamed alias\n",
    "    from {{ ref('stg_telegram_messages') }} msg\n",
    "),\n",
    "\n",
    "joined as (\n",
    "    select\n",
    "        base.message_id,\n",
    "        base.sender_id,\n",
    "        base.message_text,\n",
    "        base.has_photo,\n",
    "        dc.channel_id,\n",
    "        dd.date_id,\n",
    "        base.post_date,  -- ✅ Include it in select\n",
    "        length(base.message_text) as message_length\n",
    "    from base\n",
    "    left join {{ ref('dim_channels') }} dc on base.channel = dc.channel\n",
    "    left join {{ ref('dim_dates') }} dd on base.post_date = dd.date  -- ✅ Use updated alias\n",
    ")\n",
    "\n",
    "select * from joined\n",
    "\"\"\"\n",
    "\n",
    "with open(\"medical_dbt/models/fct_messages.sql\", \"w\") as f:\n",
    "    f.write(fct_messages_sql)\n",
    "\n",
    "print(\"✅ fct_messages.sql created\")\n"
   ]
  },
  {
   "cell_type": "markdown",
   "id": "2c103cf9",
   "metadata": {},
   "source": [
    "✅ CELL 11 – Add tests to schema.yml\n",
    "Update your existing schema.yml inside medical_dbt/models:"
   ]
  },
  {
   "cell_type": "code",
   "execution_count": 12,
   "id": "45212b1e",
   "metadata": {},
   "outputs": [
    {
     "name": "stdout",
     "output_type": "stream",
     "text": [
      "✅ schema.yml updated with tests\n"
     ]
    }
   ],
   "source": [
    "schema_yml = \"\"\"\n",
    "version: 2\n",
    "\n",
    "sources:\n",
    "  - name: public\n",
    "    database: telegram_db\n",
    "    schema: public\n",
    "    tables:\n",
    "      - name: raw_telegram_messages\n",
    "\n",
    "models:\n",
    "  - name: stg_telegram_messages\n",
    "    columns:\n",
    "      - name: message_id\n",
    "        tests:\n",
    "          - unique\n",
    "          - not_null\n",
    "\n",
    "  - name: dim_channels\n",
    "    columns:\n",
    "      - name: channel_id\n",
    "        tests:\n",
    "          - unique\n",
    "          - not_null\n",
    "\n",
    "  - name: dim_dates\n",
    "    columns:\n",
    "      - name: date_id\n",
    "        tests:\n",
    "          - unique\n",
    "          - not_null\n",
    "\n",
    "  - name: fct_messages\n",
    "    columns:\n",
    "      - name: message_id\n",
    "        tests:\n",
    "          - unique\n",
    "          - not_null\n",
    "\"\"\"\n",
    "\n",
    "with open(\"medical_dbt/models/schema.yml\", \"w\") as f:\n",
    "    f.write(schema_yml)\n",
    "\n",
    "print(\"✅ schema.yml updated with tests\")\n"
   ]
  },
  {
   "cell_type": "markdown",
   "id": "84f92e05",
   "metadata": {},
   "source": [
    "✅ CELL 12 – Create a Custom Test\n",
    "Create a new file inside tests/ folder (you can create the folder if it doesn't exist):"
   ]
  },
  {
   "cell_type": "code",
   "execution_count": 13,
   "id": "21cabe33",
   "metadata": {},
   "outputs": [
    {
     "name": "stdout",
     "output_type": "stream",
     "text": [
      "✅ Custom test 'no_null_dates.sql' created\n"
     ]
    }
   ],
   "source": [
    "custom_test_sql = \"\"\"\n",
    "-- Ensure that no message is missing a date\n",
    "select *\n",
    "from {{ ref('fct_messages') }}\n",
    "where date_id is null\n",
    "\"\"\"\n",
    "\n",
    "os.makedirs(\"medical_dbt/tests\", exist_ok=True)\n",
    "with open(\"medical_dbt/tests/no_null_dates.sql\", \"w\") as f:\n",
    "    f.write(custom_test_sql)\n",
    "\n",
    "print(\"✅ Custom test 'no_null_dates.sql' created\")\n"
   ]
  },
  {
   "cell_type": "markdown",
   "id": "58c37222",
   "metadata": {},
   "source": [
    "✅ CELL 13 – Run All Models"
   ]
  },
  {
   "cell_type": "code",
   "execution_count": 14,
   "id": "0c9fbf5c",
   "metadata": {},
   "outputs": [
    {
     "name": "stdout",
     "output_type": "stream",
     "text": [
      "\u001b[0m07:08:22  Running with dbt=1.10.4\n",
      "\u001b[0m07:08:22  Registered adapter: postgres=1.9.0\n",
      "\u001b[0m07:08:23  [\u001b[33mWARNING\u001b[0m]: Configuration paths exist in your dbt_project.yml file which do not apply to any resources.\n",
      "There are 1 unused configuration paths:\n",
      "- models.medical_dbt.example\n",
      "\u001b[0m07:08:23  Found 9 data tests, 4 models, 1 source, 433 macros\n",
      "\u001b[0m07:08:23  \n",
      "\u001b[0m07:08:23  Concurrency: 4 threads (target='dev')\n",
      "\u001b[0m07:08:23  \n",
      "\u001b[0m07:08:23  1 of 4 START sql view model public.stg_telegram_messages ....................... [RUN]\n",
      "\u001b[0m07:08:24  1 of 4 OK created sql view model public.stg_telegram_messages .................. [\u001b[32mCREATE VIEW\u001b[0m in 0.17s]\n",
      "\u001b[0m07:08:24  2 of 4 START sql view model public.dim_channels ................................ [RUN]\n",
      "\u001b[0m07:08:24  3 of 4 START sql view model public.dim_dates ................................... [RUN]\n",
      "\u001b[0m07:08:24  2 of 4 OK created sql view model public.dim_channels ........................... [\u001b[32mCREATE VIEW\u001b[0m in 0.12s]\n",
      "\u001b[0m07:08:24  3 of 4 OK created sql view model public.dim_dates .............................. [\u001b[32mCREATE VIEW\u001b[0m in 0.12s]\n",
      "\u001b[0m07:08:24  4 of 4 START sql view model public.fct_messages ................................ [RUN]\n",
      "\u001b[0m07:08:24  4 of 4 OK created sql view model public.fct_messages ........................... [\u001b[32mCREATE VIEW\u001b[0m in 0.10s]\n",
      "\u001b[0m07:08:24  \n",
      "\u001b[0m07:08:24  Finished running 4 view models in 0 hours 0 minutes and 0.79 seconds (0.79s).\n",
      "\u001b[0m07:08:24  \n",
      "\u001b[0m07:08:24  \u001b[32mCompleted successfully\u001b[0m\n",
      "\u001b[0m07:08:24  \n",
      "\u001b[0m07:08:24  Done. PASS=4 WARN=0 ERROR=0 SKIP=0 NO-OP=0 TOTAL=4\n"
     ]
    }
   ],
   "source": [
    "!dbt run --project-dir medical_dbt\n"
   ]
  },
  {
   "cell_type": "markdown",
   "id": "42e4db8c",
   "metadata": {},
   "source": [
    "✅ CELL 14 – Run Tests"
   ]
  },
  {
   "cell_type": "code",
   "execution_count": 15,
   "id": "58570aa4",
   "metadata": {},
   "outputs": [
    {
     "name": "stdout",
     "output_type": "stream",
     "text": [
      "\u001b[0m07:08:28  Running with dbt=1.10.4\n",
      "\u001b[0m07:08:29  Registered adapter: postgres=1.9.0\n",
      "\u001b[0m07:08:29  [\u001b[33mWARNING\u001b[0m]: Configuration paths exist in your dbt_project.yml file which do not apply to any resources.\n",
      "There are 1 unused configuration paths:\n",
      "- models.medical_dbt.example\n",
      "\u001b[0m07:08:29  Found 9 data tests, 4 models, 1 source, 433 macros\n",
      "\u001b[0m07:08:29  \n",
      "\u001b[0m07:08:29  Concurrency: 4 threads (target='dev')\n",
      "\u001b[0m07:08:29  \n",
      "\u001b[0m07:08:30  1 of 9 START test no_null_dates ................................................ [RUN]\n",
      "\u001b[0m07:08:30  3 of 9 START test not_null_dim_dates_date_id ................................... [RUN]\n",
      "\u001b[0m07:08:30  4 of 9 START test not_null_fct_messages_message_id ............................. [RUN]\n",
      "\u001b[0m07:08:30  2 of 9 START test not_null_dim_channels_channel_id ............................. [RUN]\n",
      "\u001b[0m07:08:30  1 of 9 PASS no_null_dates ...................................................... [\u001b[32mPASS\u001b[0m in 0.25s]\n",
      "\u001b[0m07:08:30  4 of 9 PASS not_null_fct_messages_message_id ................................... [\u001b[32mPASS\u001b[0m in 0.25s]\n",
      "\u001b[0m07:08:30  3 of 9 PASS not_null_dim_dates_date_id ......................................... [\u001b[32mPASS\u001b[0m in 0.25s]\n",
      "\u001b[0m07:08:30  5 of 9 START test not_null_stg_telegram_messages_message_id .................... [RUN]\n",
      "\u001b[0m07:08:30  6 of 9 START test unique_dim_channels_channel_id ............................... [RUN]\n",
      "\u001b[0m07:08:30  7 of 9 START test unique_dim_dates_date_id ..................................... [RUN]\n",
      "\u001b[0m07:08:30  2 of 9 PASS not_null_dim_channels_channel_id ................................... [\u001b[32mPASS\u001b[0m in 0.28s]\n",
      "\u001b[0m07:08:30  8 of 9 START test unique_fct_messages_message_id ............................... [RUN]\n",
      "\u001b[0m07:08:30  5 of 9 PASS not_null_stg_telegram_messages_message_id .......................... [\u001b[32mPASS\u001b[0m in 0.15s]\n",
      "\u001b[0m07:08:30  9 of 9 START test unique_stg_telegram_messages_message_id ...................... [RUN]\n",
      "\u001b[0m07:08:30  6 of 9 PASS unique_dim_channels_channel_id ..................................... [\u001b[32mPASS\u001b[0m in 0.17s]\n",
      "\u001b[0m07:08:30  7 of 9 PASS unique_dim_dates_date_id ........................................... [\u001b[32mPASS\u001b[0m in 0.15s]\n",
      "\u001b[0m07:08:30  8 of 9 PASS unique_fct_messages_message_id ..................................... [\u001b[32mPASS\u001b[0m in 0.16s]\n",
      "\u001b[0m07:08:30  9 of 9 PASS unique_stg_telegram_messages_message_id ............................ [\u001b[32mPASS\u001b[0m in 0.09s]\n",
      "\u001b[0m07:08:30  \n",
      "\u001b[0m07:08:30  Finished running 9 data tests in 0 hours 0 minutes and 0.89 seconds (0.89s).\n",
      "\u001b[0m07:08:30  \n",
      "\u001b[0m07:08:30  \u001b[32mCompleted successfully\u001b[0m\n",
      "\u001b[0m07:08:30  \n",
      "\u001b[0m07:08:30  Done. PASS=9 WARN=0 ERROR=0 SKIP=0 NO-OP=0 TOTAL=9\n"
     ]
    }
   ],
   "source": [
    "!dbt test --project-dir medical_dbt\n"
   ]
  },
  {
   "cell_type": "markdown",
   "id": "80403de0",
   "metadata": {},
   "source": [
    "✅ CELL 15 – Generate Documentation\n",
    "\n"
   ]
  },
  {
   "cell_type": "code",
   "execution_count": 16,
   "id": "9be9406b",
   "metadata": {},
   "outputs": [
    {
     "name": "stdout",
     "output_type": "stream",
     "text": [
      "\u001b[0m07:08:35  Running with dbt=1.10.4\n",
      "\u001b[0m07:08:35  Registered adapter: postgres=1.9.0\n",
      "\u001b[0m07:08:36  [\u001b[33mWARNING\u001b[0m]: Configuration paths exist in your dbt_project.yml file which do not apply to any resources.\n",
      "There are 1 unused configuration paths:\n",
      "- models.medical_dbt.example\n",
      "\u001b[0m07:08:36  Found 9 data tests, 4 models, 1 source, 433 macros\n",
      "\u001b[0m07:08:36  \n",
      "\u001b[0m07:08:36  Concurrency: 4 threads (target='dev')\n",
      "\u001b[0m07:08:36  \n",
      "\u001b[0m07:08:37  Building catalog\n",
      "\u001b[0m07:08:37  Catalog written to C:\\Users\\Bob\\Desktop\\10Acadamy\\week7\\medical-data-warehouse\\medical_dbt\\target\\catalog.json\n",
      "^C\n"
     ]
    }
   ],
   "source": [
    "# Generate and view docs\n",
    "!dbt docs generate --project-dir medical_dbt\n",
    "!dbt docs serve --project-dir medical_dbt\n"
   ]
  }
 ],
 "metadata": {
  "kernelspec": {
   "display_name": ".venv",
   "language": "python",
   "name": "python3"
  },
  "language_info": {
   "codemirror_mode": {
    "name": "ipython",
    "version": 3
   },
   "file_extension": ".py",
   "mimetype": "text/x-python",
   "name": "python",
   "nbconvert_exporter": "python",
   "pygments_lexer": "ipython3",
   "version": "3.13.3"
  }
 },
 "nbformat": 4,
 "nbformat_minor": 5
}
