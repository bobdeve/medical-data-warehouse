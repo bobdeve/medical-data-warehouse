{
 "cells": [
  {
   "cell_type": "code",
   "execution_count": 14,
   "id": "4221e445",
   "metadata": {},
   "outputs": [
    {
     "name": "stdout",
     "output_type": "stream",
     "text": [
      "Requirement already satisfied: telethon in c:\\users\\bob\\desktop\\10acadamy\\week7\\.venv\\lib\\site-packages (1.40.0)\n",
      "Requirement already satisfied: python-dotenv in c:\\users\\bob\\desktop\\10acadamy\\week7\\.venv\\lib\\site-packages (1.1.1)\n",
      "Requirement already satisfied: pyaes in c:\\users\\bob\\desktop\\10acadamy\\week7\\.venv\\lib\\site-packages (from telethon) (1.6.1)\n",
      "Requirement already satisfied: rsa in c:\\users\\bob\\desktop\\10acadamy\\week7\\.venv\\lib\\site-packages (from telethon) (4.9.1)\n",
      "Requirement already satisfied: pyasn1>=0.1.3 in c:\\users\\bob\\desktop\\10acadamy\\week7\\.venv\\lib\\site-packages (from rsa->telethon) (0.6.1)\n",
      "Note: you may need to restart the kernel to use updated packages.\n"
     ]
    }
   ],
   "source": [
    "pip install telethon python-dotenv\n"
   ]
  },
  {
   "cell_type": "code",
   "execution_count": 15,
   "id": "1a17437b",
   "metadata": {},
   "outputs": [],
   "source": [
    "import os\n",
    "import json\n",
    "from datetime import datetime\n",
    "from dotenv import load_dotenv\n",
    "from telethon import TelegramClient\n",
    "from telethon.errors import SessionPasswordNeededError\n",
    "import logging\n"
   ]
  },
  {
   "cell_type": "code",
   "execution_count": 18,
   "id": "033ba9d5",
   "metadata": {},
   "outputs": [],
   "source": [
    "load_dotenv()\n",
    "\n",
    "API_ID = int(os.getenv('TELE_API_ID'))\n",
    "API_HASH = os.getenv('TELE_API_HASH')\n",
    "PHONE_NUMBER = os.getenv('TELE_PHONE_NUMBER')\n",
    "\n"
   ]
  },
  {
   "cell_type": "markdown",
   "id": "6d9818ef",
   "metadata": {},
   "source": [
    "Setup Logging"
   ]
  },
  {
   "cell_type": "code",
   "execution_count": null,
   "id": "f9398f0e",
   "metadata": {},
   "outputs": [],
   "source": [
    "logging.basicConfig(\n",
    "    filename='telegram_scraping_new.log',\n",
    "    level=logging.INFO,\n",
    "    format='%(asctime)s - %(levelname)s - %(message)s'\n",
    ")\n"
   ]
  }
 ],
 "metadata": {
  "kernelspec": {
   "display_name": ".venv",
   "language": "python",
   "name": "python3"
  },
  "language_info": {
   "codemirror_mode": {
    "name": "ipython",
    "version": 3
   },
   "file_extension": ".py",
   "mimetype": "text/x-python",
   "name": "python",
   "nbconvert_exporter": "python",
   "pygments_lexer": "ipython3",
   "version": "3.13.3"
  }
 },
 "nbformat": 4,
 "nbformat_minor": 5
}
