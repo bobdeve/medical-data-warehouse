{
 "cells": [
  {
   "cell_type": "code",
   "execution_count": 1,
   "id": "4221e445",
   "metadata": {},
   "outputs": [
    {
     "name": "stdout",
     "output_type": "stream",
     "text": [
      "Requirement already satisfied: telethon in c:\\users\\bob\\desktop\\10acadamy\\week7\\.venv\\lib\\site-packages (1.40.0)\n",
      "Requirement already satisfied: python-dotenv in c:\\users\\bob\\desktop\\10acadamy\\week7\\.venv\\lib\\site-packages (1.1.1)\n",
      "Requirement already satisfied: pyaes in c:\\users\\bob\\desktop\\10acadamy\\week7\\.venv\\lib\\site-packages (from telethon) (1.6.1)\n",
      "Requirement already satisfied: rsa in c:\\users\\bob\\desktop\\10acadamy\\week7\\.venv\\lib\\site-packages (from telethon) (4.9.1)\n",
      "Requirement already satisfied: pyasn1>=0.1.3 in c:\\users\\bob\\desktop\\10acadamy\\week7\\.venv\\lib\\site-packages (from rsa->telethon) (0.6.1)\n",
      "Note: you may need to restart the kernel to use updated packages.\n"
     ]
    }
   ],
   "source": [
    "pip install telethon python-dotenv\n"
   ]
  },
  {
   "cell_type": "code",
   "execution_count": 2,
   "id": "1a17437b",
   "metadata": {},
   "outputs": [],
   "source": [
    "import os\n",
    "import json\n",
    "from datetime import datetime\n",
    "from dotenv import load_dotenv\n",
    "from telethon import TelegramClient\n",
    "from telethon.errors import SessionPasswordNeededError\n",
    "import logging\n"
   ]
  },
  {
   "cell_type": "code",
   "execution_count": 3,
   "id": "033ba9d5",
   "metadata": {},
   "outputs": [],
   "source": [
    "load_dotenv()\n",
    "\n",
    "API_ID = int(os.getenv('TELE_API_ID'))\n",
    "API_HASH = os.getenv('TELE_API_HASH')\n",
    "PHONE_NUMBER = os.getenv('TELE_PHONE_NUMBER')\n",
    "\n"
   ]
  },
  {
   "cell_type": "markdown",
   "id": "6d9818ef",
   "metadata": {},
   "source": [
    "Setup Logging"
   ]
  },
  {
   "cell_type": "code",
   "execution_count": 4,
   "id": "f9398f0e",
   "metadata": {},
   "outputs": [],
   "source": [
    "logging.basicConfig(\n",
    "    filename='telegram_scraping_new.log',\n",
    "    level=logging.INFO,\n",
    "    format='%(asctime)s - %(levelname)s - %(message)s'\n",
    ")\n"
   ]
  },
  {
   "cell_type": "markdown",
   "id": "d09267e1",
   "metadata": {},
   "source": [
    "connect to telegram"
   ]
  },
  {
   "cell_type": "code",
   "execution_count": 5,
   "id": "8ca6c402",
   "metadata": {},
   "outputs": [
    {
     "name": "stdout",
     "output_type": "stream",
     "text": [
      "✅ Telegram client connected and authorized.\n"
     ]
    }
   ],
   "source": [
    "client = TelegramClient(\"session_name\", API_ID, API_HASH)\n",
    "\n",
    "async def start_telegram_client():\n",
    "    await client.connect()\n",
    "    if not await client.is_user_authorized():\n",
    "        await client.send_code_request(PHONE_NUMBER)\n",
    "        code = input(\"Enter the code you received from Telegram: \")\n",
    "        try:\n",
    "            await client.sign_in(PHONE_NUMBER, code)\n",
    "        except SessionPasswordNeededError:\n",
    "            password = input(\"Enter your 2FA password: \")\n",
    "            await client.sign_in(password=password)\n",
    "    print(\"✅ Telegram client connected and authorized.\")\n",
    "\n",
    "await start_telegram_client()\n"
   ]
  },
  {
   "cell_type": "markdown",
   "id": "bd7be97b",
   "metadata": {},
   "source": [
    "Define Message Scraper Function"
   ]
  },
  {
   "cell_type": "code",
   "execution_count": 6,
   "id": "6b3b920c",
   "metadata": {},
   "outputs": [],
   "source": [
    "async def scrape_messages(channel_username, limit=100):\n",
    "    messages = []\n",
    "    try:\n",
    "        async for message in client.iter_messages(channel_username, limit=limit):\n",
    "            messages.append(message.to_dict())\n",
    "        logging.info(f\"Scraped {len(messages)} messages from {channel_username}\")\n",
    "    except Exception as e:\n",
    "        logging.error(f\"Error scraping messages from {channel_username}: {str(e)}\")\n",
    "    return messages\n"
   ]
  },
  {
   "cell_type": "markdown",
   "id": "9693e71a",
   "metadata": {},
   "source": [
    " Define Save Function"
   ]
  },
  {
   "cell_type": "code",
   "execution_count": 7,
   "id": "05df4d20",
   "metadata": {},
   "outputs": [],
   "source": [
    "def sanitize(obj):\n",
    "    \"\"\"Convert non-serializable types to serializable ones.\"\"\"\n",
    "    if isinstance(obj, datetime):\n",
    "        return obj.isoformat()\n",
    "    if isinstance(obj, bytes):\n",
    "        return obj.decode(errors='ignore')\n",
    "    if isinstance(obj, dict):\n",
    "        return {k: sanitize(v) for k, v in obj.items()}\n",
    "    if isinstance(obj, list):\n",
    "        return [sanitize(i) for i in obj]\n",
    "    return obj\n",
    "\n",
    "def save_messages(messages, channel_username):\n",
    "    sanitized = sanitize(messages)\n",
    "    date_str = datetime.now().strftime(\"%Y-%m-%d\")\n",
    "    dir_path = f\"../data/raw/telegram_messages/{date_str}/{channel_username}\"\n",
    "    os.makedirs(dir_path, exist_ok=True)\n",
    "    file_path = os.path.join(dir_path, \"messages.json\")\n",
    "    with open(file_path, \"w\", encoding=\"utf-8\") as f:\n",
    "        json.dump(sanitized, f, ensure_ascii=False, indent=2)\n",
    "    logging.info(f\"Saved messages to {file_path}\")\n",
    "    print(f\"✅ Saved messages to {file_path}\")\n"
   ]
  },
  {
   "cell_type": "markdown",
   "id": "4a912692",
   "metadata": {},
   "source": [
    "Scrape All 6 Channels"
   ]
  },
  {
   "cell_type": "code",
   "execution_count": 8,
   "id": "969c4ed0",
   "metadata": {},
   "outputs": [
    {
     "name": "stdout",
     "output_type": "stream",
     "text": [
      "📥 Scraping: lobelia4cosmetics\n",
      "✅ Saved messages to ../data/raw/telegram_messages/2025-07-12/lobelia4cosmetics\\messages.json\n",
      "📥 Scraping: tikvahpharma\n",
      "✅ Saved messages to ../data/raw/telegram_messages/2025-07-12/tikvahpharma\\messages.json\n",
      "📥 Scraping: CheMed123\n",
      "✅ Saved messages to ../data/raw/telegram_messages/2025-07-12/CheMed123\\messages.json\n",
      "📥 Scraping: EAHCI\n",
      "✅ Saved messages to ../data/raw/telegram_messages/2025-07-12/EAHCI\\messages.json\n",
      "📥 Scraping: Thequorachannel\n",
      "✅ Saved messages to ../data/raw/telegram_messages/2025-07-12/Thequorachannel\\messages.json\n",
      "📥 Scraping: HakimApps_Guideline\n",
      "✅ Saved messages to ../data/raw/telegram_messages/2025-07-12/HakimApps_Guideline\\messages.json\n"
     ]
    }
   ],
   "source": [
    "channels = [\n",
    "    \"lobelia4cosmetics\",\n",
    "    \"tikvahpharma\",\n",
    "    \"CheMed123\",\n",
    "    \"EAHCI\",\n",
    "    \"Thequorachannel\",\n",
    "    \"HakimApps_Guideline\"\n",
    "]\n",
    "\n",
    "for channel in channels:\n",
    "    print(f\"📥 Scraping: {channel}\")\n",
    "    messages = await scrape_messages(channel, limit=100)\n",
    "    save_messages(messages, channel)\n"
   ]
  },
  {
   "cell_type": "code",
   "execution_count": 9,
   "id": "50a6b350",
   "metadata": {},
   "outputs": [],
   "source": [
    "async def download_images(channel_username, limit=50, download_path=\"../data/images\"):\n",
    "    os.makedirs(os.path.join(download_path, channel_username), exist_ok=True)\n",
    "    try:\n",
    "        async for message in client.iter_messages(channel_username, limit=limit):\n",
    "            if message.photo:\n",
    "                await message.download_media(file=os.path.join(download_path, channel_username))\n",
    "                logging.info(f\"Downloaded image from {channel_username}\")\n",
    "    except Exception as e:\n",
    "        logging.error(f\"Error downloading images from {channel_username}: {str(e)}\")\n"
   ]
  },
  {
   "cell_type": "code",
   "execution_count": 10,
   "id": "8c5b85d6",
   "metadata": {},
   "outputs": [
    {
     "name": "stdout",
     "output_type": "stream",
     "text": [
      "📸 Downloading images from: lobelia4cosmetics\n",
      "📸 Downloading images from: CheMed123\n"
     ]
    }
   ],
   "source": [
    "# Let's say we want images only from CheMed123 and lobelia4cosmetics\n",
    "image_channels = [\"lobelia4cosmetics\", \"CheMed123\"]\n",
    "\n",
    "for channel in image_channels:\n",
    "    print(f\"📸 Downloading images from: {channel}\")\n",
    "    await download_images(channel, limit=30, download_path=\"../data/images\")\n"
   ]
  }
 ],
 "metadata": {
  "kernelspec": {
   "display_name": ".venv",
   "language": "python",
   "name": "python3"
  },
  "language_info": {
   "codemirror_mode": {
    "name": "ipython",
    "version": 3
   },
   "file_extension": ".py",
   "mimetype": "text/x-python",
   "name": "python",
   "nbconvert_exporter": "python",
   "pygments_lexer": "ipython3",
   "version": "3.13.3"
  }
 },
 "nbformat": 4,
 "nbformat_minor": 5
}
