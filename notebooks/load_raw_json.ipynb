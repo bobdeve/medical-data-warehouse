{
 "cells": [
  {
   "cell_type": "code",
   "execution_count": 1,
   "id": "778033cc",
   "metadata": {},
   "outputs": [
    {
     "name": "stdout",
     "output_type": "stream",
     "text": [
      "✅ Connected to PostgreSQL!\n"
     ]
    }
   ],
   "source": [
    "import os\n",
    "import psycopg2\n",
    "from dotenv import load_dotenv\n",
    "\n",
    "load_dotenv()\n",
    "\n",
    "DB_NAME = os.getenv(\"DB_NAME\")\n",
    "DB_USER = os.getenv(\"DB_USER\")\n",
    "DB_PASS = os.getenv(\"DB_PASS\")\n",
    "DB_HOST = os.getenv(\"DB_HOST\")\n",
    "DB_PORT = os.getenv(\"DB_PORT\")\n",
    "\n",
    "conn = psycopg2.connect(\n",
    "    dbname=DB_NAME,\n",
    "    user=DB_USER,\n",
    "    password=DB_PASS,\n",
    "    host=DB_HOST,\n",
    "    port=DB_PORT\n",
    ")\n",
    "cursor = conn.cursor()\n",
    "\n",
    "print(\"✅ Connected to PostgreSQL!\")\n"
   ]
  },
  {
   "cell_type": "code",
   "execution_count": 2,
   "id": "73917ee3",
   "metadata": {},
   "outputs": [
    {
     "name": "stdout",
     "output_type": "stream",
     "text": [
      "✅ Table 'raw_telegram_messages' ensured in database\n"
     ]
    }
   ],
   "source": [
    "create_table_sql = \"\"\"\n",
    "CREATE TABLE IF NOT EXISTS raw_telegram_messages (\n",
    "    message_id BIGINT PRIMARY KEY,\n",
    "    date TIMESTAMP,\n",
    "    sender_id TEXT,\n",
    "    text TEXT,\n",
    "    channel TEXT,\n",
    "    has_photo BOOLEAN\n",
    ");\n",
    "\"\"\"\n",
    "\n",
    "cursor.execute(create_table_sql)\n",
    "conn.commit()\n",
    "\n",
    "print(\"✅ Table 'raw_telegram_messages' ensured in database\")\n"
   ]
  },
  {
   "cell_type": "code",
   "execution_count": 3,
   "id": "c9c22efe",
   "metadata": {},
   "outputs": [],
   "source": [
    "import json\n",
    "from glob import glob\n",
    "from datetime import datetime\n",
    "\n",
    "def load_json_to_postgres(file_path, channel_name):\n",
    "    with open(file_path, \"r\", encoding=\"utf-8\") as f:\n",
    "        data = json.load(f)\n",
    "    \n",
    "    for msg in data:\n",
    "        msg_id = msg.get(\"id\")\n",
    "        msg_date = msg.get(\"date\")\n",
    "        if msg_date:\n",
    "            # Convert string to datetime\n",
    "            msg_date = datetime.fromisoformat(msg_date.replace(\"Z\", \"+00:00\"))\n",
    "        sender = msg.get(\"from_id\", {})\n",
    "        sender_id = sender.get(\"user_id\") if isinstance(sender, dict) else sender\n",
    "        text = msg.get(\"message\")\n",
    "        has_photo = bool(msg.get(\"photo\"))\n",
    "        \n",
    "        try:\n",
    "            cursor.execute(\n",
    "                \"\"\"\n",
    "                INSERT INTO raw_telegram_messages (message_id, date, sender_id, text, channel, has_photo)\n",
    "                VALUES (%s, %s, %s, %s, %s, %s)\n",
    "                ON CONFLICT (message_id) DO NOTHING;\n",
    "                \"\"\",\n",
    "                (msg_id, msg_date, sender_id, text, channel_name, has_photo)\n",
    "            )\n",
    "        except Exception as e:\n",
    "            print(f\"⚠️ Skipping message {msg_id} due to error: {e}\")\n",
    "            conn.rollback()\n",
    "        else:\n",
    "            conn.commit()\n",
    "\n",
    "    print(f\"✅ Loaded data from {channel_name} - {file_path}\")\n"
   ]
  },
  {
   "cell_type": "code",
   "execution_count": 5,
   "id": "e0f7d76c",
   "metadata": {},
   "outputs": [
    {
     "name": "stdout",
     "output_type": "stream",
     "text": [
      "✅ Loaded data from CheMed123 - ../data/raw/telegram_messages\\2025-07-10\\CheMed123\\messages.json\n",
      "✅ Loaded data from EAHCI - ../data/raw/telegram_messages\\2025-07-10\\EAHCI\\messages.json\n",
      "✅ Loaded data from HakimApps_Guideline - ../data/raw/telegram_messages\\2025-07-10\\HakimApps_Guideline\\messages.json\n",
      "✅ Loaded data from lobelia4cosmetics - ../data/raw/telegram_messages\\2025-07-10\\lobelia4cosmetics\\messages.json\n",
      "✅ Loaded data from Thequorachannel - ../data/raw/telegram_messages\\2025-07-10\\Thequorachannel\\messages.json\n",
      "✅ Loaded data from tikvahpharma - ../data/raw/telegram_messages\\2025-07-10\\tikvahpharma\\messages.json\n"
     ]
    }
   ],
   "source": [
    "import os\n",
    "\n",
    "raw_data_path = \"../data/raw/telegram_messages\"\n",
    "\n",
    "# Recursively find all messages.json files\n",
    "json_files = glob(os.path.join(raw_data_path, \"*\", \"*\", \"messages.json\"))\n",
    "\n",
    "for file_path in json_files:\n",
    "    # Extract channel name from path (assumes channel is folder name one level above file)\n",
    "    channel_name = file_path.split(os.sep)[-2]\n",
    "    load_json_to_postgres(file_path, channel_name)\n"
   ]
  },
  {
   "cell_type": "code",
   "execution_count": 6,
   "id": "2134ac2f",
   "metadata": {},
   "outputs": [
    {
     "name": "stdout",
     "output_type": "stream",
     "text": [
      "✅ PostgreSQL connection closed.\n"
     ]
    }
   ],
   "source": [
    "cursor.close()\n",
    "conn.close()\n",
    "print(\"✅ PostgreSQL connection closed.\")\n"
   ]
  }
 ],
 "metadata": {
  "kernelspec": {
   "display_name": ".venv",
   "language": "python",
   "name": "python3"
  },
  "language_info": {
   "codemirror_mode": {
    "name": "ipython",
    "version": 3
   },
   "file_extension": ".py",
   "mimetype": "text/x-python",
   "name": "python",
   "nbconvert_exporter": "python",
   "pygments_lexer": "ipython3",
   "version": "3.13.3"
  }
 },
 "nbformat": 4,
 "nbformat_minor": 5
}
